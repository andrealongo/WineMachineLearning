{
 "cells": [
  {
   "cell_type": "markdown",
   "metadata": {},
   "source": [
    "## Data cleaning "
   ]
  },
  {
   "cell_type": "code",
   "execution_count": 410,
   "metadata": {
    "scrolled": true
   },
   "outputs": [],
   "source": [
    "import pandas as pd\n",
    "import numpy as np\n",
    "import os as os\n",
    "import matplotlib.pyplot as plt\n",
    "import seaborn as sns"
   ]
  },
  {
   "cell_type": "code",
   "execution_count": 355,
   "metadata": {},
   "outputs": [
    {
     "data": {
      "text/plain": [
       "'/Users/andrealongoni/Desktop/USIINFMScThesis'"
      ]
     },
     "execution_count": 355,
     "metadata": {},
     "output_type": "execute_result"
    }
   ],
   "source": [
    "os.getcwd()"
   ]
  },
  {
   "cell_type": "code",
   "execution_count": 403,
   "metadata": {},
   "outputs": [],
   "source": [
    "dataWine = pd.read_csv('FineWine.csv')"
   ]
  },
  {
   "cell_type": "code",
   "execution_count": 404,
   "metadata": {},
   "outputs": [
    {
     "data": {
      "text/plain": [
       "<bound method DataFrame.info of      Unnamed: 0     X.1       X    country  \\\n",
       "0          9005    1576    1575     France   \n",
       "1          9006    1572    1571     France   \n",
       "2          9007  113582  113581     France   \n",
       "3          9008    1567    1566     France   \n",
       "4          9009   89479   89478    Austria   \n",
       "5          9010   36532   36531   Portugal   \n",
       "6          9011   69517   69516     France   \n",
       "7          9012   41442   41441   Portugal   \n",
       "8          9013   84821   84820     France   \n",
       "9          9014   54299   54298     France   \n",
       "10         9015   88871   88870      Italy   \n",
       "11         9016   30111   30110     France   \n",
       "12         9017   56954   56953  Australia   \n",
       "13         9018   77029   77028  Australia   \n",
       "14         9019  124431  124430     France   \n",
       "15         9020  122936  122935     France   \n",
       "16         9021   56960   56959  Australia   \n",
       "17         9022   36530   36529     France   \n",
       "18         9023   39289   39288     France   \n",
       "19         9024   97151   97150     France   \n",
       "20         9025  108485  108484      Italy   \n",
       "21         9026  113931  113930     France   \n",
       "22         9027   78236   78235   Portugal   \n",
       "23         9028   39628   39627  Australia   \n",
       "24         9029     348     347    Germany   \n",
       "25         9030   16523   16522    Germany   \n",
       "26         9031   43651   43650    Germany   \n",
       "27         9032   43656   43655    Germany   \n",
       "28         9033   15847   15846      Spain   \n",
       "29         9034   90584   90583   Portugal   \n",
       "..          ...     ...     ...        ...   \n",
       "277        9282   39288   39287      Italy   \n",
       "278        9283   78313   78312   Portugal   \n",
       "279        9284   94133   94132     France   \n",
       "280        9285   95051   95050     France   \n",
       "281        9286  117389  117388    Romania   \n",
       "282        9287  120603  120602     France   \n",
       "283        9288   48898   48897     France   \n",
       "284        9289   36492   36491    Germany   \n",
       "285        9290   16526   16525    Germany   \n",
       "286        9291   47513   47512    Germany   \n",
       "287        9292   23440   23439     France   \n",
       "288        9293  109336  109335      Italy   \n",
       "289        9294   23191   23190    Germany   \n",
       "290        9295   26430   26429     France   \n",
       "291        9296   89459   89458     France   \n",
       "292        9297   95442   95441     France   \n",
       "293        9298  109344  109343     France   \n",
       "294        9299   50811   50810     France   \n",
       "295        9300   62274   62273     France   \n",
       "296        9301   52895   52894     France   \n",
       "297        9302   76387   76386     France   \n",
       "298        9303   26452   26451     France   \n",
       "299        9304   17736   17735     France   \n",
       "300        9305   79719   79718     France   \n",
       "301        9306  109429  109428     France   \n",
       "302        9307   21716   21715     France   \n",
       "303        9308   21724   21723     France   \n",
       "304        9309   79111   79110      Spain   \n",
       "305        9310  122032  122031     France   \n",
       "306        9311   39069   39068     France   \n",
       "\n",
       "                                           description  \\\n",
       "0    The purest Cabernet Sauvignon fruit, with dark...   \n",
       "1    Solid, very structured, packed with dense and ...   \n",
       "2    While it starts austerely, this wine is obviou...   \n",
       "3    Such a generous and ripe wine, with a dark cor...   \n",
       "4    Wet earth, rain-wet stones, damp moss, wild sa...   \n",
       "5    This Port was “rescued” from the darkest reces...   \n",
       "6    This is the first vintage of a wine that used ...   \n",
       "7    This was a great vintage Port year, and this w...   \n",
       "8    Produced from vines mainly planted in the 1970...   \n",
       "9    The production is tiny, yet the potential of t...   \n",
       "10   Biondi-Santi performs exceptionally well in el...   \n",
       "11   This wine comes from the vineyard that sits at...   \n",
       "12   This inky, embryonic wine deserves to be cella...   \n",
       "13   This has all the size and weight you've come t...   \n",
       "14   While there is certainly plenty of wood here, ...   \n",
       "15   Full of ripe fruit, opulent and concentrated, ...   \n",
       "16   Is this the Yin to Grange's Yang? The wines ar...   \n",
       "17   Pure Chardonnay from the walled vineyard in th...   \n",
       "18   The palate opens slowly, offering an initial c...   \n",
       "19   Soft Pinot Noir gives this warm, rounded wine....   \n",
       "20   Thanks to having some of the highest vineyards...   \n",
       "21   This isn't sweet, but just so wonderfully rich...   \n",
       "22   Sweet, surprisingly soft for its age, this sho...   \n",
       "23   This wine is rather developed, showing leather...   \n",
       "24   Dusty, saffron-spiced earthiness is juxtaposed...   \n",
       "25   With layers upon layers of spicy saffron, peac...   \n",
       "26   Perfumed florals mingle curiously with deep, d...   \n",
       "27   Dusty earth and mineral tones lend contrast to...   \n",
       "28   This single-vineyard Carignan is living proof ...   \n",
       "29   While this wine from a year that was not decla...   \n",
       "..                                                 ...   \n",
       "277  Here's a “wow” wine you won't easily forget. M...   \n",
       "278  Old gold in color, this is a really mature Col...   \n",
       "279  Christophe Perrot-Minot makes this wine from a...   \n",
       "280  This is a very fine wine with considerable bot...   \n",
       "281  This collectible botrytis Riesling grown on th...   \n",
       "282  Intensely ripe wine, with melon and pear flavo...   \n",
       "283  A beautiful wine, smooth, polished, with round...   \n",
       "284  Yes, this wine is supersweet, but it's also pr...   \n",
       "285  Exhilarating tropical perfume leaps from the g...   \n",
       "286  Dark, almost russet in color, this is an eiswe...   \n",
       "287  Initially, this is a richly ripe wine with tro...   \n",
       "288  Earthy aromas of tilled soil, truffle, leather...   \n",
       "289  Delicate dustings of saffron and spice lend co...   \n",
       "290  This is a beautiful, ripe and floral wine. It ...   \n",
       "291  As always with a grand cru from Gevrey-Chamber...   \n",
       "292  This perfumed, smoky wine is gently wood aged ...   \n",
       "293  The superb Clos de la Roche has produced a pow...   \n",
       "294  This is a bright star in Olivier Leflaive's fi...   \n",
       "295  Aged in 100% new wood, this massive wine is fu...   \n",
       "296  Toasty aromas are not enough to smother the in...   \n",
       "297  This is a powerful, ripe wine, touched by its ...   \n",
       "298  This is a rich wine from several parcels of vi...   \n",
       "299  Big and rich, this is a broad, open version of...   \n",
       "300  Following on from the great 2002 vintage of th...   \n",
       "301  With its gold color and mature, toasty flavors...   \n",
       "302  Very opulent, very rich, this is a complex, st...   \n",
       "303  A very rich wine, showing all the opulence of ...   \n",
       "304  Jammy, creamy and superripe, with raspberry, b...   \n",
       "305  A rich wine, full and fruity up front, then op...   \n",
       "306  Wood aged for 12 months, this dense and struct...   \n",
       "\n",
       "                                           designation  points  price  \\\n",
       "0                                                  NaN      96   1300   \n",
       "1                                                  NaN      96   1200   \n",
       "2                                                  NaN      94   1125   \n",
       "3                                                  NaN      97   1100   \n",
       "4                              Ried Loibenberg Smaragd      94   1100   \n",
       "5                                    90-year Old Tawny      97   1000   \n",
       "6                                                  NaN      94   1000   \n",
       "7                                       Colheita White      94    980   \n",
       "8                                                  NaN      95    973   \n",
       "9                                                  NaN      97    932   \n",
       "10                                             Riserva      94    900   \n",
       "11                                                 NaN      97    886   \n",
       "12                                              Grange      99    850   \n",
       "13                                              Grange      98    850   \n",
       "14                                                 NaN      95    850   \n",
       "15                                                 NaN     100    848   \n",
       "16                                       Hill of Grace      96    820   \n",
       "17                 Clos du Mesnil Brut Blanc de Blancs      99    800   \n",
       "18                                                 NaN      98    800   \n",
       "19                                            Morogues      87    800   \n",
       "20                                             Riserva      94    800   \n",
       "21                                                 NaN      97    800   \n",
       "22                                            Colheita      87    790   \n",
       "23                                       Hill of Grace      91    780   \n",
       "24            Kiedrich Gräfenberg Trockenbeerenauslese      97    775   \n",
       "25            Kiedrich Gräfenberg Trockenbeerenauslese      98    775   \n",
       "26            Kiedrich Gräfenberg Trockenbeerenauslese      95    775   \n",
       "27            Kiedrich Gräfenberg Trockenbeerenauslese      95    775   \n",
       "28                                            El Perer      96    770   \n",
       "29                                      Colheita Tawny      93    770   \n",
       "..                                                 ...     ...    ...   \n",
       "277                                           Messorio      99    320   \n",
       "278                                     Colheita Tawny      95    320   \n",
       "279          La Combe d'Orveau Cuvée Ultra Premier Cru      94    320   \n",
       "280                             Dom Pérignon Brut Rosé      95    320   \n",
       "281                                              Dulce      85    320   \n",
       "282                                    Les Demoiselles      94    320   \n",
       "283                                                NaN      98    319   \n",
       "284               Trittenheimer Apotheke Beerenauslese      94    317   \n",
       "285  Hochheimer Domdechaney Trockenbeerenauslese Gr...      96    316   \n",
       "286                              Herrenberg Eiswein 82      93    316   \n",
       "287                                                NaN      96    315   \n",
       "288                                           Messorio      96    315   \n",
       "289                                 Herrenberg Eiswein      93    314   \n",
       "290                                                NaN      94    314   \n",
       "291                                                NaN      95    312   \n",
       "292                                                NaN      94    312   \n",
       "293                                                NaN      95    312   \n",
       "294                                                NaN      95    310   \n",
       "295                             Cuvée Héritiers Latour      94    310   \n",
       "296                                                NaN      95    307   \n",
       "297                                                NaN      95    307   \n",
       "298                            Domaine du Clos Frantin      94    306   \n",
       "299                                                NaN      94    305   \n",
       "300                   Cuvée Sir Winston Churchill Brut      97    305   \n",
       "301                   Cuvée Sir Winston Churchill Brut      98    305   \n",
       "302                                   Clos de la Roche      96    304   \n",
       "303                                Clos de Saint-Denis      95    304   \n",
       "304                                            Cirsion      96    303   \n",
       "305                           Les Pucelles Premier Cru      95    303   \n",
       "306                                                NaN      94    301   \n",
       "\n",
       "             province                region_1 region_2         taster_name  \\\n",
       "0            Bordeaux                Pauillac      NaN          Roger Voss   \n",
       "1            Bordeaux          Pessac-Léognan      NaN          Roger Voss   \n",
       "2            Burgundy              La Romanée      NaN          Roger Voss   \n",
       "3            Bordeaux          Pessac-Léognan      NaN          Roger Voss   \n",
       "4              Wachau                     NaN      NaN    Anne Krebiehl MW   \n",
       "5                Port                     NaN      NaN          Roger Voss   \n",
       "6            Bordeaux          Pessac-Léognan      NaN          Roger Voss   \n",
       "7                Port                     NaN      NaN          Roger Voss   \n",
       "8            Burgundy                 Musigny      NaN          Roger Voss   \n",
       "9            Bordeaux          Pessac-Léognan      NaN          Roger Voss   \n",
       "10            Tuscany  Brunello di Montalcino      NaN                 NaN   \n",
       "11           Burgundy              Montrachet      NaN          Roger Voss   \n",
       "12    South Australia         South Australia      NaN      Joe Czerwinski   \n",
       "13    South Australia         South Australia      NaN      Joe Czerwinski   \n",
       "14           Bordeaux           Saint-Émilion      NaN          Roger Voss   \n",
       "15           Bordeaux          Pessac-Léognan      NaN          Roger Voss   \n",
       "16    South Australia             Eden Valley      NaN      Joe Czerwinski   \n",
       "17          Champagne               Champagne      NaN          Roger Voss   \n",
       "18           Bordeaux          Pessac-Léognan      NaN          Roger Voss   \n",
       "19       Loire Valley           Menetou-Salon      NaN          Roger Voss   \n",
       "20            Tuscany  Brunello di Montalcino      NaN       Kerin O’Keefe   \n",
       "21           Bordeaux               Sauternes      NaN          Roger Voss   \n",
       "22               Port                     NaN      NaN          Roger Voss   \n",
       "23    South Australia             Eden Valley      NaN      Joe Czerwinski   \n",
       "24           Rheingau                     NaN      NaN  Anna Lee C. Iijima   \n",
       "25           Rheingau                     NaN      NaN  Anna Lee C. Iijima   \n",
       "26           Rheingau                     NaN      NaN  Anna Lee C. Iijima   \n",
       "27           Rheingau                     NaN      NaN  Anna Lee C. Iijima   \n",
       "28          Catalonia                 Priorat      NaN   Michael Schachner   \n",
       "29               Port                     NaN      NaN          Roger Voss   \n",
       "..                ...                     ...      ...                 ...   \n",
       "277           Tuscany                 Toscana      NaN                 NaN   \n",
       "278              Port                     NaN      NaN          Roger Voss   \n",
       "279          Burgundy       Chambolle-Musigny      NaN          Roger Voss   \n",
       "280         Champagne               Champagne      NaN          Roger Voss   \n",
       "281        Vânju Mare                     NaN      NaN     Susan Kostrzewa   \n",
       "282          Burgundy    Chevalier-Montrachet      NaN          Roger Voss   \n",
       "283          Burgundy            Clos de Tart      NaN          Roger Voss   \n",
       "284  Mosel-Saar-Ruwer                     NaN      NaN      Joe Czerwinski   \n",
       "285          Rheingau                     NaN      NaN  Anna Lee C. Iijima   \n",
       "286             Mosel                     NaN      NaN      Joe Czerwinski   \n",
       "287          Burgundy    Chevalier-Montrachet      NaN          Roger Voss   \n",
       "288           Tuscany                 Toscana      NaN       Kerin O’Keefe   \n",
       "289             Mosel                     NaN      NaN  Anna Lee C. Iijima   \n",
       "290          Burgundy  Latricières-Chambertin      NaN          Roger Voss   \n",
       "291          Burgundy      Charmes-Chambertin      NaN          Roger Voss   \n",
       "292          Burgundy         Clos de Vougeot      NaN          Roger Voss   \n",
       "293          Burgundy        Clos de la Roche      NaN          Roger Voss   \n",
       "294          Burgundy       Bâtard-Montrachet      NaN          Roger Voss   \n",
       "295          Burgundy              Chambertin      NaN          Roger Voss   \n",
       "296          Burgundy         Clos de Vougeot      NaN          Roger Voss   \n",
       "297          Burgundy      Corton-Charlemagne      NaN          Roger Voss   \n",
       "298          Burgundy         Clos de Vougeot      NaN          Roger Voss   \n",
       "299          Burgundy      Corton-Charlemagne      NaN          Roger Voss   \n",
       "300         Champagne               Champagne      NaN          Roger Voss   \n",
       "301         Champagne               Champagne      NaN          Roger Voss   \n",
       "302          Burgundy        Clos de la Roche      NaN          Roger Voss   \n",
       "303          Burgundy        Clos Saint-Denis      NaN          Roger Voss   \n",
       "304    Northern Spain                   Rioja      NaN   Michael Schachner   \n",
       "305          Burgundy      Puligny-Montrachet      NaN          Roger Voss   \n",
       "306          Burgundy         Clos de Vougeot      NaN          Roger Voss   \n",
       "\n",
       "    taster_twitter_handle                                              title  \\\n",
       "0              @vossroger           Château Mouton Rothschild 2009  Pauillac   \n",
       "1              @vossroger            Château Haut-Brion 2009  Pessac-Léognan   \n",
       "2              @vossroger     Domaine du Comte Liger-Belair 2006  La Romanée   \n",
       "3              @vossroger  Château La Mission Haut-Brion 2009  Pessac-Léo...   \n",
       "4             @AnneInVino  Emmerich Knoll 2013 Ried Loibenberg Smaragd Gr...   \n",
       "5              @vossroger      W. & J. Graham's NV 90-year Old Tawny  (Port)   \n",
       "6              @vossroger  Château La Mission Haut-Brion 2009  Pessac-Léo...   \n",
       "7              @vossroger                  Kopke 1935 Colheita White  (Port)   \n",
       "8              @vossroger               Domaine Jacques Prieur 2014  Musigny   \n",
       "9              @vossroger            Château Haut-Brion 2013  Pessac-Léognan   \n",
       "10                    NaN  Biondi Santi 2006 Riserva  (Brunello di Montal...   \n",
       "11             @vossroger                  Olivier Leflaive 2014  Montrachet   \n",
       "12                 @JoeCz      Penfolds 2010 Grange Shiraz (South Australia)   \n",
       "13                 @JoeCz      Penfolds 2008 Grange Shiraz (South Australia)   \n",
       "14             @vossroger                 Château Ausone 2007  Saint-Émilion   \n",
       "15             @vossroger            Château Haut-Brion 2014  Pessac-Léognan   \n",
       "16                 @JoeCz   Henschke 2010 Hill of Grace Shiraz (Eden Valley)   \n",
       "17             @vossroger  Krug 2002 Clos du Mesnil Brut Blanc de Blancs ...   \n",
       "18             @vossroger            Château Haut-Brion 2007  Pessac-Léognan   \n",
       "19             @vossroger   Domaine Pellé 2014 Morogues Rosé (Menetou-Salon)   \n",
       "20           @kerinokeefe  Biondi Santi 2007 Riserva  (Brunello di Montal...   \n",
       "21             @vossroger                    Château d'Yquem 2005  Sauternes   \n",
       "22             @vossroger                    Burmester 1963 Colheita  (Port)   \n",
       "23                 @JoeCz   Henschke 2009 Hill of Grace Shiraz (Eden Valley)   \n",
       "24                    NaN  Robert Weil 2014 Kiedrich Gräfenberg Trockenbe...   \n",
       "25                    NaN  Robert Weil 2015 Kiedrich Gräfenberg Trockenbe...   \n",
       "26                    NaN  Robert Weil 2012 Kiedrich Gräfenberg Trockenbe...   \n",
       "27                    NaN  Robert Weil 2013 Kiedrich Gräfenberg Trockenbe...   \n",
       "28            @wineschach      Marco Abella 2012 El Perer Carignan (Priorat)   \n",
       "29             @vossroger                  Kopke 1941 Colheita Tawny  (Port)   \n",
       "..                    ...                                                ...   \n",
       "277                   NaN        Le Macchiole 2007 Messorio Merlot (Toscana)   \n",
       "278            @vossroger                  Cálem 1961 Colheita Tawny  (Port)   \n",
       "279            @vossroger  Domaine Perrot-Minot 2010 La Combe d'Orveau Cu...   \n",
       "280            @vossroger  Moët & Chandon 2004 Dom Pérignon Brut Rosé  (C...   \n",
       "281         @suskostrzewa    Sirena Dunarii 2000 Dulce Riesling (Vânju Mare)   \n",
       "282            @vossroger  Louis Latour 2009 Les Demoiselles  (Chevalier-...   \n",
       "283            @vossroger                    Clos de Tart 2005  Clos de Tart   \n",
       "284                @JoeCz  Grans-Fassian 2006 Trittenheimer Apotheke Beer...   \n",
       "285                   NaN  Domdechant Werner 2015 Hochheimer Domdechaney ...   \n",
       "286                @JoeCz  Maximin Grünhäuser 2009 Herrenberg Eiswein 82 ...   \n",
       "287            @vossroger    Bouchard Père & Fils 2011  Chevalier-Montrachet   \n",
       "288          @kerinokeefe        Le Macchiole 2010 Messorio Merlot (Toscana)   \n",
       "289                   NaN  Maximin Grünhäuser 2012 Herrenberg Eiswein Rie...   \n",
       "290            @vossroger      Domaine Faiveley 2014  Latricières-Chambertin   \n",
       "291            @vossroger          Roche de Bellene 2012  Charmes-Chambertin   \n",
       "292            @vossroger             Roche de Bellene 2012  Clos de Vougeot   \n",
       "293            @vossroger            Roche de Bellene 2012  Clos de la Roche   \n",
       "294            @vossroger           Olivier Leflaive 2006  Bâtard-Montrachet   \n",
       "295            @vossroger  Louis Latour 2012 Cuvée Héritiers Latour  (Cha...   \n",
       "296            @vossroger          Domaine Méo-Camuzet 2013  Clos de Vougeot   \n",
       "297            @vossroger       Domaine Méo-Camuzet 2013  Corton-Charlemagne   \n",
       "298            @vossroger  Albert Bichot 2014 Domaine du Clos Frantin  (C...   \n",
       "299            @vossroger  Jean-Luc and Paul Aegerter 2011  Corton-Charle...   \n",
       "300            @vossroger  Pol Roger 2004 Cuvée Sir Winston Churchill Bru...   \n",
       "301            @vossroger  Pol Roger 2002 Cuvée Sir Winston Churchill Bru...   \n",
       "302            @vossroger  Domaine Dujac 2009 Clos de la Roche  (Clos de ...   \n",
       "303            @vossroger  Domaine Dujac 2009 Clos de Saint-Denis  (Clos ...   \n",
       "304           @wineschach                 Bodegas Roda 2005 Cirsion  (Rioja)   \n",
       "305            @vossroger  Domaine Leflaive 2010 Les Pucelles Premier Cru...   \n",
       "306            @vossroger   Jean-Luc and Paul Aegerter 2014  Clos de Vougeot   \n",
       "\n",
       "                        variety                         winery  vintage  \\\n",
       "0      Bordeaux-style Red Blend      Château Mouton Rothschild   2009.0   \n",
       "1      Bordeaux-style Red Blend             Château Haut-Brion   2009.0   \n",
       "2                    Pinot Noir  Domaine du Comte Liger-Belair   2006.0   \n",
       "3      Bordeaux-style Red Blend  Château La Mission Haut-Brion   2009.0   \n",
       "4              Grüner Veltliner                 Emmerich Knoll   2013.0   \n",
       "5                          Port               W. & J. Graham's      NaN   \n",
       "6    Bordeaux-style White Blend  Château La Mission Haut-Brion   2009.0   \n",
       "7                          Port                          Kopke   1935.0   \n",
       "8                    Pinot Noir         Domaine Jacques Prieur   2014.0   \n",
       "9    Bordeaux-style White Blend             Château Haut-Brion   2013.0   \n",
       "10            Sangiovese Grosso                   Biondi Santi   2006.0   \n",
       "11                   Chardonnay               Olivier Leflaive   2014.0   \n",
       "12                       Shiraz                       Penfolds   2010.0   \n",
       "13                       Shiraz                       Penfolds   2008.0   \n",
       "14     Bordeaux-style Red Blend                 Château Ausone   2007.0   \n",
       "15   Bordeaux-style White Blend             Château Haut-Brion   2014.0   \n",
       "16                       Shiraz                       Henschke   2010.0   \n",
       "17                   Chardonnay                           Krug   2002.0   \n",
       "18   Bordeaux-style White Blend             Château Haut-Brion   2007.0   \n",
       "19                         Rosé                  Domaine Pellé   2014.0   \n",
       "20                   Sangiovese                   Biondi Santi   2007.0   \n",
       "21   Bordeaux-style White Blend                Château d'Yquem   2005.0   \n",
       "22                         Port                      Burmester   1963.0   \n",
       "23                       Shiraz                       Henschke   2009.0   \n",
       "24                     Riesling                    Robert Weil   2014.0   \n",
       "25                     Riesling                    Robert Weil   2015.0   \n",
       "26                     Riesling                    Robert Weil   2012.0   \n",
       "27                     Riesling                    Robert Weil   2013.0   \n",
       "28                     Carignan                   Marco Abella   2012.0   \n",
       "29                         Port                          Kopke   1941.0   \n",
       "..                          ...                            ...      ...   \n",
       "277                      Merlot                   Le Macchiole   2007.0   \n",
       "278                        Port                          Cálem   1961.0   \n",
       "279                  Pinot Noir           Domaine Perrot-Minot   2010.0   \n",
       "280             Champagne Blend                 Moët & Chandon   2004.0   \n",
       "281                    Riesling                 Sirena Dunarii   2000.0   \n",
       "282                  Chardonnay                   Louis Latour   2009.0   \n",
       "283                  Pinot Noir                   Clos de Tart   2005.0   \n",
       "284                    Riesling                  Grans-Fassian   2006.0   \n",
       "285                    Riesling              Domdechant Werner   2015.0   \n",
       "286                    Riesling             Maximin Grünhäuser   2009.0   \n",
       "287                  Chardonnay           Bouchard Père & Fils   2011.0   \n",
       "288                      Merlot                   Le Macchiole   2010.0   \n",
       "289                    Riesling             Maximin Grünhäuser   2012.0   \n",
       "290                  Pinot Noir               Domaine Faiveley   2014.0   \n",
       "291                  Pinot Noir               Roche de Bellene   2012.0   \n",
       "292                  Pinot Noir               Roche de Bellene   2012.0   \n",
       "293                  Pinot Noir               Roche de Bellene   2012.0   \n",
       "294                  Chardonnay               Olivier Leflaive   2006.0   \n",
       "295                  Pinot Noir                   Louis Latour   2012.0   \n",
       "296                  Pinot Noir            Domaine Méo-Camuzet   2013.0   \n",
       "297                  Chardonnay            Domaine Méo-Camuzet   2013.0   \n",
       "298                  Pinot Noir                  Albert Bichot   2014.0   \n",
       "299                  Chardonnay     Jean-Luc and Paul Aegerter   2011.0   \n",
       "300             Champagne Blend                      Pol Roger   2004.0   \n",
       "301             Champagne Blend                      Pol Roger   2002.0   \n",
       "302                  Pinot Noir                  Domaine Dujac   2009.0   \n",
       "303                  Pinot Noir                  Domaine Dujac   2009.0   \n",
       "304                 Tempranillo                   Bodegas Roda   2005.0   \n",
       "305                  Chardonnay               Domaine Leflaive   2010.0   \n",
       "306                  Pinot Noir     Jean-Luc and Paul Aegerter   2014.0   \n",
       "\n",
       "     sentiment  sentiment_dictionary  \n",
       "0     0.314316              1.000000  \n",
       "1    -0.150039              0.998371  \n",
       "2     0.153193              0.996743  \n",
       "3     0.250737              0.995114  \n",
       "4     0.002317              0.993485  \n",
       "5     0.275948              0.991857  \n",
       "6     0.497662              0.990228  \n",
       "7     0.184328              0.988599  \n",
       "8     0.304805              0.986971  \n",
       "9     0.177002              0.985342  \n",
       "10    0.449086              0.983713  \n",
       "11    0.284949              0.982085  \n",
       "12    0.110147              0.980456  \n",
       "13    0.173800              0.978827  \n",
       "14    0.053548              0.977199  \n",
       "15    0.397305              0.975570  \n",
       "16    0.214350              0.973941  \n",
       "17    0.269477              0.972313  \n",
       "18    0.065075              0.970684  \n",
       "19    0.312966              0.969055  \n",
       "20    0.213272              0.967427  \n",
       "21    0.181688              0.965798  \n",
       "22    0.377919              0.964169  \n",
       "23    0.181143              0.962541  \n",
       "24    0.201759              0.960912  \n",
       "25    0.476752              0.959283  \n",
       "26    0.209266              0.957655  \n",
       "27    0.343905              0.956026  \n",
       "28    0.411067              0.954397  \n",
       "29    0.039782              0.952769  \n",
       "..         ...                   ...  \n",
       "277   0.342025              0.548860  \n",
       "278   0.285774              0.547231  \n",
       "279   0.219239              0.545603  \n",
       "280   0.357797              0.543974  \n",
       "281   0.220556              0.542345  \n",
       "282   0.298097              0.540717  \n",
       "283   0.621683              0.539088  \n",
       "284   0.811503              0.537459  \n",
       "285   0.454743              0.535831  \n",
       "286   0.043156              0.534202  \n",
       "287   0.166828              0.532573  \n",
       "288   0.294388              0.530945  \n",
       "289   0.264177              0.529316  \n",
       "290   0.539947              0.527687  \n",
       "291   0.273928              0.526059  \n",
       "292  -0.109474              0.524430  \n",
       "293   0.277766              0.522801  \n",
       "294   0.252008              0.521173  \n",
       "295   0.150915              0.519544  \n",
       "296   0.059950              0.517915  \n",
       "297   0.106634              0.516287  \n",
       "298   0.124919              0.514658  \n",
       "299   0.374148              0.513029  \n",
       "300   0.372809              0.511401  \n",
       "301   0.282844              0.509772  \n",
       "302   0.494859              0.508143  \n",
       "303   0.218510              0.506515  \n",
       "304   0.271121              0.504886  \n",
       "305   0.056325              0.503257  \n",
       "306   0.188327              0.500000  \n",
       "\n",
       "[307 rows x 19 columns]>"
      ]
     },
     "execution_count": 404,
     "metadata": {},
     "output_type": "execute_result"
    }
   ],
   "source": [
    "dataWine.info"
   ]
  },
  {
   "cell_type": "markdown",
   "metadata": {},
   "source": [
    "## Linear Regression"
   ]
  },
  {
   "cell_type": "markdown",
   "metadata": {},
   "source": [
    "### Single Linear regression"
   ]
  },
  {
   "cell_type": "code",
   "execution_count": 373,
   "metadata": {},
   "outputs": [],
   "source": [
    "df = dataWine \n",
    "#take only necessary columns \n",
    "cdf = df[['price', 'country', 'points', 'province', 'variety', 'vintage', 'sentiment_dictionary','description']]\n",
    "#clean from NAs, inf, space\n",
    "cdf = cdf.replace([np.inf, -np.inf, ' '], np.nan).dropna()"
   ]
  },
  {
   "cell_type": "code",
   "execution_count": 374,
   "metadata": {},
   "outputs": [],
   "source": [
    "msk = np.random.rand(len(cdf)) < 0.8\n",
    "train = cdf[msk]\n",
    "test = cdf[~msk]"
   ]
  },
  {
   "cell_type": "code",
   "execution_count": 375,
   "metadata": {},
   "outputs": [],
   "source": [
    "#train[train.price == ' '] = np.nan"
   ]
  },
  {
   "cell_type": "code",
   "execution_count": 377,
   "metadata": {},
   "outputs": [
    {
     "data": {
      "text/plain": [
       "LinearRegression(copy_X=True, fit_intercept=True, n_jobs=None,\n",
       "         normalize=False)"
      ]
     },
     "execution_count": 377,
     "metadata": {},
     "output_type": "execute_result"
    }
   ],
   "source": [
    "#import Linear regression tool\n",
    "from sklearn import linear_model\n",
    "regr = linear_model.LinearRegression()\n",
    "#assign dep and indep variables \n",
    "train_x = np.asanyarray(train[['sentiment_dictionary']])\n",
    "train_y = np.asanyarray(train[['price']])\n",
    "#fit the regression \n",
    "regr.fit (train_x, train_y)"
   ]
  },
  {
   "cell_type": "code",
   "execution_count": 378,
   "metadata": {},
   "outputs": [
    {
     "name": "stdout",
     "output_type": "stream",
     "text": [
      "Coefficients:  [[1038.90496258]]\n",
      "Intercept:  [-301.50219693]\n"
     ]
    }
   ],
   "source": [
    "# The coefficients\n",
    "print ('Coefficients: ', regr.coef_)\n",
    "print ('Intercept: ',regr.intercept_)"
   ]
  },
  {
   "cell_type": "code",
   "execution_count": 380,
   "metadata": {
    "scrolled": true
   },
   "outputs": [
    {
     "name": "stdout",
     "output_type": "stream",
     "text": [
      "Mean absolute error: 519133.98\n",
      "Residual sum of squares (MSE): 306332711254.90\n",
      "R2-score: -7.32\n"
     ]
    }
   ],
   "source": [
    "from sklearn.metrics import r2_score\n",
    "\n",
    "test_x = np.asanyarray(test[['price']])\n",
    "test_y = np.asanyarray(test[['sentiment_dictionary']])\n",
    "test_y_hat = regr.predict(test_x)\n",
    "\n",
    "print(\"Mean absolute error: %.2f\" % np.mean(np.absolute(test_y_hat - test_y)))\n",
    "print(\"Residual sum of squares (MSE): %.2f\" % np.mean((test_y_hat - test_y) ** 2))\n",
    "print(\"R2-score: %.2f\" % r2_score(test_y_hat , test_y) )"
   ]
  },
  {
   "cell_type": "markdown",
   "metadata": {},
   "source": [
    "### MultiLinear regression"
   ]
  },
  {
   "cell_type": "code",
   "execution_count": 381,
   "metadata": {},
   "outputs": [
    {
     "data": {
      "text/plain": [
       "LinearRegression(copy_X=True, fit_intercept=True, n_jobs=None,\n",
       "         normalize=False)"
      ]
     },
     "execution_count": 381,
     "metadata": {},
     "output_type": "execute_result"
    }
   ],
   "source": [
    "#assign dep and indep variables \n",
    "train_x = np.asanyarray(train[['points', 'sentiment_dictionary']])\n",
    "train_y = np.asanyarray(train[['price']])\n",
    "#fit the regression \n",
    "regr.fit (train_x, train_y)"
   ]
  },
  {
   "cell_type": "code",
   "execution_count": 382,
   "metadata": {},
   "outputs": [
    {
     "name": "stdout",
     "output_type": "stream",
     "text": [
      "Coefficients:  [[  -1.82151462 1046.3634186 ]]\n"
     ]
    }
   ],
   "source": [
    "# The coefficients\n",
    "print ('Coefficients: ', regr.coef_)"
   ]
  },
  {
   "cell_type": "code",
   "execution_count": 385,
   "metadata": {},
   "outputs": [],
   "source": [
    "y_hat= regr.predict(test[['points', 'sentiment_dictionary']])\n",
    "x = np.asanyarray(test[['points', 'sentiment_dictionary']])\n",
    "y = np.asanyarray(test[['price']])"
   ]
  },
  {
   "cell_type": "code",
   "execution_count": 386,
   "metadata": {},
   "outputs": [
    {
     "name": "stdout",
     "output_type": "stream",
     "text": [
      "Variance score: 0.75\n",
      "R2-score: 0.64\n"
     ]
    }
   ],
   "source": [
    "# Explained variance score: 1 is perfect prediction\n",
    "print('Variance score: %.2f' % regr.score(x, y))\n",
    "print(\"R2-score: %.2f\" % r2_score(y_hat , y) )"
   ]
  },
  {
   "cell_type": "markdown",
   "metadata": {},
   "source": [
    "### price - points scatterplot"
   ]
  },
  {
   "cell_type": "code",
   "execution_count": 390,
   "metadata": {
    "scrolled": false
   },
   "outputs": [
    {
     "data": {
      "image/png": "[encoded data removed]",
      "text/plain": [
       "<Figure size 576x360 with 1 Axes>"
      ]
     },
     "metadata": {
      "needs_background": "light"
     },
     "output_type": "display_data"
    }
   ],
   "source": [
    "plt.figure(figsize=(8,5))\n",
    "x_data, y_data = (cdf[\"price\"].values, cdf[\"sentiment_dictionary\"].values)\n",
    "plt.plot(x_data, y_data, 'ro')\n",
    "plt.ylabel('sentiment_dictionary')\n",
    "plt.xlabel('price')\n",
    "plt.show()"
   ]
  },
  {
   "cell_type": "markdown",
   "metadata": {},
   "source": [
    "### Logit regression"
   ]
  },
  {
   "cell_type": "code",
   "execution_count": 396,
   "metadata": {},
   "outputs": [],
   "source": [
    "cdf['price'] = cdf['price'].astype('float')\n",
    "cdf['sentiment_dictionary'] = cdf['sentiment_dictionary'].astype('float')"
   ]
  },
  {
   "cell_type": "code",
   "execution_count": 397,
   "metadata": {},
   "outputs": [],
   "source": [
    "def sigmoid(x, Beta_1, Beta_2):\n",
    "    y = 1 / (1 + np.exp(-Beta_1 * (x - Beta_2)))\n",
    "    return y"
   ]
  },
  {
   "cell_type": "code",
   "execution_count": 398,
   "metadata": {},
   "outputs": [],
   "source": [
    "# Lets normalize our data\n",
    "xdata =x_data/max(x_data)\n",
    "ydata =y_data/max(y_data)"
   ]
  },
  {
   "cell_type": "code",
   "execution_count": 399,
   "metadata": {},
   "outputs": [],
   "source": [
    "from scipy.optimize import curve_fit\n",
    "popt, pcov = curve_fit(sigmoid, xdata, ydata)"
   ]
  },
  {
   "cell_type": "code",
   "execution_count": 400,
   "metadata": {},
   "outputs": [
    {
     "name": "stdout",
     "output_type": "stream",
     "text": [
      " beta_1 = 10.550376, beta_2 = 0.225928\n"
     ]
    }
   ],
   "source": [
    "#print the final parameters\n",
    "print(\" beta_1 = %f, beta_2 = %f\" % (popt[0], popt[1]))"
   ]
  },
  {
   "cell_type": "code",
   "execution_count": 401,
   "metadata": {},
   "outputs": [
    {
     "data": {
      "image/png": "[encoded data removed]",
      "text/plain": [
       "<Figure size 576x360 with 1 Axes>"
      ]
     },
     "metadata": {
      "needs_background": "light"
     },
     "output_type": "display_data"
    }
   ],
   "source": [
    "x = np.linspace(1960, 2015, 55)\n",
    "x = x/max(x)\n",
    "plt.figure(figsize=(8,5))\n",
    "y = sigmoid(x, *popt)\n",
    "plt.plot(xdata, ydata, 'ro', label='data')\n",
    "plt.plot(x,y, linewidth=3.0, label='fit')\n",
    "plt.legend(loc='best')\n",
    "plt.ylabel('sentiment_dictionary')\n",
    "plt.xlabel('price')\n",
    "plt.show()"
   ]
  },
  {
   "cell_type": "code",
   "execution_count": 402,
   "metadata": {},
   "outputs": [
    {
     "name": "stdout",
     "output_type": "stream",
     "text": [
      "Mean absolute error: 0.01\n",
      "Residual sum of squares (MSE): 0.00\n",
      "R2-score: 0.99\n"
     ]
    }
   ],
   "source": [
    "#accuracy\n",
    "msk = np.random.rand(len(cdf)) < 0.8\n",
    "train_x = xdata[msk]\n",
    "test_x = xdata[~msk]\n",
    "train_y = ydata[msk]\n",
    "test_y = ydata[~msk]\n",
    "\n",
    "# build the model using train set\n",
    "popt, pcov = curve_fit(sigmoid, train_x, train_y)\n",
    "\n",
    "# predict using test set\n",
    "y_hat = sigmoid(test_x, *popt)\n",
    "\n",
    "# evaluation\n",
    "print(\"Mean absolute error: %.2f\" % np.mean(np.absolute(y_hat - test_y)))\n",
    "print(\"Residual sum of squares (MSE): %.2f\" % np.mean((y_hat - test_y) ** 2))\n",
    "from sklearn.metrics import r2_score\n",
    "print(\"R2-score: %.2f\" % r2_score(y_hat , test_y) )"
   ]
  },
  {
   "cell_type": "code",
   "execution_count": 288,
   "metadata": {},
   "outputs": [],
   "source": [
    "#save csv \n",
    "cdf.to_csv('Triout.csv')"
   ]
  },
  {
   "cell_type": "code",
   "execution_count": 428,
   "metadata": {},
   "outputs": [
    {
     "data": {
      "text/plain": [
       "country                   object\n",
       "description               object\n",
       "designation               object\n",
       "points                     int64\n",
       "price                      int64\n",
       "province                  object\n",
       "region_1                  object\n",
       "region_2                  object\n",
       "taster_name               object\n",
       "taster_twitter_handle     object\n",
       "title                     object\n",
       "variety                   object\n",
       "winery                    object\n",
       "vintage                    int64\n",
       "sentiment                float64\n",
       "thin                       int64\n",
       "hollow                     int64\n",
       "mellow                     int64\n",
       "short                      int64\n",
       "austere                    int64\n",
       "angular                    int64\n",
       "delicate                   int64\n",
       "elegant                    int64\n",
       "light bodied               int64\n",
       "finesse                    int64\n",
       "closed                     int64\n",
       "polished                   int64\n",
       "complex                    int64\n",
       "full bodied                int64\n",
       "full-bodied                int64\n",
       "                          ...   \n",
       "sweet tobacco              int64\n",
       "toasty                     int64\n",
       "nutty                      int64\n",
       "coconut                    int64\n",
       "caramel                    int64\n",
       "vanilla                    int64\n",
       "dill                       int64\n",
       "stemmy                     int64\n",
       "stalky                     int64\n",
       "vegetal                    int64\n",
       "cat                        int64\n",
       "pee                        int64\n",
       "asparagus                  int64\n",
       "green                      int64\n",
       "grassy                     int64\n",
       "sage                       int64\n",
       "eucalyptus                 int64\n",
       "jalape                     int64\n",
       "bell pepper                int64\n",
       "gooseberry                 int64\n",
       "quince                     int64\n",
       "minerality                 int64\n",
       "graphite                   int64\n",
       "unctuous                   int64\n",
       "oily                       int64\n",
       "petroleum                  int64\n",
       "plastic                    int64\n",
       "tar                        int64\n",
       "rubber                     int64\n",
       "diesel                     int64\n",
       "Length: 147, dtype: object"
      ]
     },
     "execution_count": 428,
     "metadata": {},
     "output_type": "execute_result"
    }
   ],
   "source": [
    "dataWine.dtypes"
   ]
  },
  {
   "cell_type": "markdown",
   "metadata": {},
   "source": [
    "## Supervised ML"
   ]
  },
  {
   "cell_type": "code",
   "execution_count": 430,
   "metadata": {},
   "outputs": [],
   "source": [
    "dataWine = pd.read_csv('TreeClassification.csv')\n",
    "dataWine = dataWine[['price', 'points', 'province','variety', 'vintage']]"
   ]
  },
  {
   "cell_type": "code",
   "execution_count": 431,
   "metadata": {},
   "outputs": [],
   "source": [
    "dataWine.head()\n",
    "df = dataWine"
   ]
  },
  {
   "cell_type": "code",
   "execution_count": 432,
   "metadata": {},
   "outputs": [],
   "source": [
    "from sklearn.preprocessing import OneHotEncoder"
   ]
  },
  {
   "cell_type": "code",
   "execution_count": 433,
   "metadata": {},
   "outputs": [],
   "source": [
    "from sklearn.model_selection import train_test_split\n",
    "df = df.dropna()\n",
    "X = df.drop(columns='price')\n",
    "y = df['price'].copy()\n",
    "X_train, X_test, y_train, y_test = train_test_split(X, y, test_size=0.5, random_state=42)"
   ]
  },
  {
   "cell_type": "code",
   "execution_count": 434,
   "metadata": {},
   "outputs": [],
   "source": [
    "ohe = OneHotEncoder(sparse=False)\n",
    "X_train_ohe = ohe.fit_transform(X_train)"
   ]
  },
  {
   "cell_type": "code",
   "execution_count": 437,
   "metadata": {},
   "outputs": [],
   "source": [
    "class MultiColumnLabelEncoder:\n",
    "    \n",
    "    def __init__(self, columns = None):\n",
    "        self.columns = columns # list of column to encode\n",
    "    def fit(self, X, y=None):\n",
    "        return self\n",
    "    def transform(self, X):\n",
    "        '''\n",
    "        Transforms columns of X specified in self.columns using\n",
    "        LabelEncoder(). If no columns specified, transforms all\n",
    "        columns in X.\n",
    "        '''\n",
    "        \n",
    "        output = X.copy()\n",
    "        \n",
    "        if self.columns is not None:\n",
    "            for col in self.columns:\n",
    "                output[col] = LabelEncoder().fit_transform(output[col])\n",
    "        else:\n",
    "            for colname, col in output.iteritems():\n",
    "                output[colname] = LabelEncoder().fit_transform(col)\n",
    "        \n",
    "        return output\n",
    "    def fit_transform(self, X, y=None):\n",
    "        return self.fit(X, y).transform(X)"
   ]
  },
  {
   "cell_type": "code",
   "execution_count": 438,
   "metadata": {
    "scrolled": true
   },
   "outputs": [
    {
     "data": {
      "text/html": [
       "<div>\n",
       "<style scoped>\n",
       "    .dataframe tbody tr th:only-of-type {\n",
       "        vertical-align: middle;\n",
       "    }\n",
       "\n",
       "    .dataframe tbody tr th {\n",
       "        vertical-align: top;\n",
       "    }\n",
       "\n",
       "    .dataframe thead th {\n",
       "        text-align: right;\n",
       "    }\n",
       "</style>\n",
       "<table border=\"1\" class=\"dataframe\">\n",
       "  <thead>\n",
       "    <tr style=\"text-align: right;\">\n",
       "      <th></th>\n",
       "      <th>points</th>\n",
       "      <th>province</th>\n",
       "      <th>variety</th>\n",
       "      <th>vintage</th>\n",
       "    </tr>\n",
       "  </thead>\n",
       "  <tbody>\n",
       "    <tr>\n",
       "      <th>11078</th>\n",
       "      <td>8</td>\n",
       "      <td>98</td>\n",
       "      <td>117</td>\n",
       "      <td>49</td>\n",
       "    </tr>\n",
       "    <tr>\n",
       "      <th>17033</th>\n",
       "      <td>11</td>\n",
       "      <td>24</td>\n",
       "      <td>117</td>\n",
       "      <td>48</td>\n",
       "    </tr>\n",
       "    <tr>\n",
       "      <th>10404</th>\n",
       "      <td>8</td>\n",
       "      <td>24</td>\n",
       "      <td>117</td>\n",
       "      <td>48</td>\n",
       "    </tr>\n",
       "    <tr>\n",
       "      <th>16944</th>\n",
       "      <td>13</td>\n",
       "      <td>24</td>\n",
       "      <td>117</td>\n",
       "      <td>45</td>\n",
       "    </tr>\n",
       "    <tr>\n",
       "      <th>6196</th>\n",
       "      <td>11</td>\n",
       "      <td>114</td>\n",
       "      <td>128</td>\n",
       "      <td>47</td>\n",
       "    </tr>\n",
       "  </tbody>\n",
       "</table>\n",
       "</div>"
      ],
      "text/plain": [
       "       points  province  variety  vintage\n",
       "11078       8        98      117       49\n",
       "17033      11        24      117       48\n",
       "10404       8        24      117       48\n",
       "16944      13        24      117       45\n",
       "6196       11       114      128       47"
      ]
     },
     "execution_count": 438,
     "metadata": {},
     "output_type": "execute_result"
    }
   ],
   "source": [
    "le = MultiColumnLabelEncoder()\n",
    "X_train_le = le.fit_transform(X_train)\n",
    "X_train_le.head()"
   ]
  },
  {
   "cell_type": "code",
   "execution_count": 439,
   "metadata": {},
   "outputs": [
    {
     "data": {
      "text/plain": [
       "array([[0., 0., 0., ..., 0., 0., 0.],\n",
       "       [0., 0., 0., ..., 0., 0., 0.],\n",
       "       [0., 0., 0., ..., 0., 0., 0.],\n",
       "       ...,\n",
       "       [0., 0., 0., ..., 0., 0., 0.],\n",
       "       [0., 0., 0., ..., 0., 0., 0.],\n",
       "       [0., 0., 0., ..., 0., 0., 0.]])"
      ]
     },
     "execution_count": 439,
     "metadata": {},
     "output_type": "execute_result"
    }
   ],
   "source": [
    "X_train_ohe = ohe.fit_transform(X_train_le)\n",
    "X_train_ohe"
   ]
  },
  {
   "cell_type": "code",
   "execution_count": 1,
   "metadata": {},
   "outputs": [
    {
     "ename": "ModuleNotFoundError",
     "evalue": "No module named 'category_encoders'",
     "output_type": "error",
     "traceback": [
      "\u001b[0;31m---------------------------------------------------------------------------\u001b[0m",
      "\u001b[0;31mModuleNotFoundError\u001b[0m                       Traceback (most recent call last)",
      "\u001b[0;32m<ipython-input-1-6021c897e3cf>\u001b[0m in \u001b[0;36m<module>\u001b[0;34m\u001b[0m\n\u001b[0;32m----> 1\u001b[0;31m \u001b[0;32mimport\u001b[0m \u001b[0mcategory_encoders\u001b[0m \u001b[0;32mas\u001b[0m \u001b[0mce\u001b[0m\u001b[0;34m\u001b[0m\u001b[0;34m\u001b[0m\u001b[0m\n\u001b[0m",
      "\u001b[0;31mModuleNotFoundError\u001b[0m: No module named 'category_encoders'"
     ]
    }
   ],
   "source": [
    "import category_encoders as ce"
   ]
  },
  {
   "cell_type": "code",
   "execution_count": null,
   "metadata": {},
   "outputs": [],
   "source": []
  },
  {
   "cell_type": "code",
   "execution_count": null,
   "metadata": {},
   "outputs": [],
   "source": []
  },
  {
   "cell_type": "markdown",
   "metadata": {},
   "source": [
    "## Unsupervised ML"
   ]
  },
  {
   "cell_type": "code",
   "execution_count": null,
   "metadata": {},
   "outputs": [],
   "source": []
  },
  {
   "cell_type": "code",
   "execution_count": null,
   "metadata": {},
   "outputs": [],
   "source": []
  },
  {
   "cell_type": "code",
   "execution_count": null,
   "metadata": {},
   "outputs": [],
   "source": []
  }
 ],
 "metadata": {
  "kernelspec": {
   "display_name": "Python 3",
   "language": "python",
   "name": "python3"
  }
 },
 "nbformat": 4,
 "nbformat_minor": 2
}
